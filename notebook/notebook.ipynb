{
  "cells": [
    {
      "cell_type": "markdown",
      "metadata": {
        "id": "f4M-Qf6JZWuD"
      },
      "source": [
        "**Initial Setup**\n",
        "\n",
        "1. First, you will setup your CoLab environment. Run the cell below."
      ]
    },
    {
      "cell_type": "code",
      "execution_count": null,
      "metadata": {
        "colab": {
          "base_uri": "https://localhost:8080/"
        },
        "id": "iyDn8qrkcDRx",
        "outputId": "746f598a-3746-438e-cd5f-4ae3afd6c93d"
      },
      "outputs": [
        {
          "name": "stdout",
          "output_type": "stream",
          "text": [
            "Collecting pyspark\n",
            "  Downloading pyspark-3.2.0.tar.gz (281.3 MB)\n",
            "\u001b[K     |████████████████████████████████| 281.3 MB 36 kB/s \n",
            "\u001b[?25hCollecting py4j==0.10.9.2\n",
            "  Downloading py4j-0.10.9.2-py2.py3-none-any.whl (198 kB)\n",
            "\u001b[K     |████████████████████████████████| 198 kB 61.9 MB/s \n",
            "\u001b[?25hBuilding wheels for collected packages: pyspark\n",
            "  Building wheel for pyspark (setup.py) ... \u001b[?25l\u001b[?25hdone\n",
            "  Created wheel for pyspark: filename=pyspark-3.2.0-py2.py3-none-any.whl size=281805912 sha256=aed30fae8e94db687f1251c0d612dcd1f9a00a46b27c74b21219d217a9726b43\n",
            "  Stored in directory: /root/.cache/pip/wheels/0b/de/d2/9be5d59d7331c6c2a7c1b6d1a4f463ce107332b1ecd4e80718\n",
            "Successfully built pyspark\n",
            "Installing collected packages: py4j, pyspark\n",
            "Successfully installed py4j-0.10.9.2 pyspark-3.2.0\n",
            "The following additional packages will be installed:\n",
            "  openjdk-8-jre-headless\n",
            "Suggested packages:\n",
            "  openjdk-8-demo openjdk-8-source libnss-mdns fonts-dejavu-extra\n",
            "  fonts-ipafont-gothic fonts-ipafont-mincho fonts-wqy-microhei\n",
            "  fonts-wqy-zenhei fonts-indic\n",
            "The following NEW packages will be installed:\n",
            "  openjdk-8-jdk-headless openjdk-8-jre-headless\n",
            "0 upgraded, 2 newly installed, 0 to remove and 37 not upgraded.\n",
            "Need to get 36.5 MB of archives.\n",
            "After this operation, 143 MB of additional disk space will be used.\n",
            "Selecting previously unselected package openjdk-8-jre-headless:amd64.\n",
            "(Reading database ... 155219 files and directories currently installed.)\n",
            "Preparing to unpack .../openjdk-8-jre-headless_8u292-b10-0ubuntu1~18.04_amd64.deb ...\n",
            "Unpacking openjdk-8-jre-headless:amd64 (8u292-b10-0ubuntu1~18.04) ...\n",
            "Selecting previously unselected package openjdk-8-jdk-headless:amd64.\n",
            "Preparing to unpack .../openjdk-8-jdk-headless_8u292-b10-0ubuntu1~18.04_amd64.deb ...\n",
            "Unpacking openjdk-8-jdk-headless:amd64 (8u292-b10-0ubuntu1~18.04) ...\n",
            "Setting up openjdk-8-jre-headless:amd64 (8u292-b10-0ubuntu1~18.04) ...\n",
            "update-alternatives: using /usr/lib/jvm/java-8-openjdk-amd64/jre/bin/orbd to provide /usr/bin/orbd (orbd) in auto mode\n",
            "update-alternatives: using /usr/lib/jvm/java-8-openjdk-amd64/jre/bin/servertool to provide /usr/bin/servertool (servertool) in auto mode\n",
            "update-alternatives: using /usr/lib/jvm/java-8-openjdk-amd64/jre/bin/tnameserv to provide /usr/bin/tnameserv (tnameserv) in auto mode\n",
            "Setting up openjdk-8-jdk-headless:amd64 (8u292-b10-0ubuntu1~18.04) ...\n",
            "update-alternatives: using /usr/lib/jvm/java-8-openjdk-amd64/bin/idlj to provide /usr/bin/idlj (idlj) in auto mode\n",
            "update-alternatives: using /usr/lib/jvm/java-8-openjdk-amd64/bin/wsimport to provide /usr/bin/wsimport (wsimport) in auto mode\n",
            "update-alternatives: using /usr/lib/jvm/java-8-openjdk-amd64/bin/jsadebugd to provide /usr/bin/jsadebugd (jsadebugd) in auto mode\n",
            "update-alternatives: using /usr/lib/jvm/java-8-openjdk-amd64/bin/native2ascii to provide /usr/bin/native2ascii (native2ascii) in auto mode\n",
            "update-alternatives: using /usr/lib/jvm/java-8-openjdk-amd64/bin/javah to provide /usr/bin/javah (javah) in auto mode\n",
            "update-alternatives: using /usr/lib/jvm/java-8-openjdk-amd64/bin/hsdb to provide /usr/bin/hsdb (hsdb) in auto mode\n",
            "update-alternatives: using /usr/lib/jvm/java-8-openjdk-amd64/bin/clhsdb to provide /usr/bin/clhsdb (clhsdb) in auto mode\n",
            "update-alternatives: using /usr/lib/jvm/java-8-openjdk-amd64/bin/extcheck to provide /usr/bin/extcheck (extcheck) in auto mode\n",
            "update-alternatives: using /usr/lib/jvm/java-8-openjdk-amd64/bin/schemagen to provide /usr/bin/schemagen (schemagen) in auto mode\n",
            "update-alternatives: using /usr/lib/jvm/java-8-openjdk-amd64/bin/xjc to provide /usr/bin/xjc (xjc) in auto mode\n",
            "update-alternatives: using /usr/lib/jvm/java-8-openjdk-amd64/bin/jhat to provide /usr/bin/jhat (jhat) in auto mode\n",
            "update-alternatives: using /usr/lib/jvm/java-8-openjdk-amd64/bin/wsgen to provide /usr/bin/wsgen (wsgen) in auto mode\n"
          ]
        }
      ],
      "source": [
        "!pip install pyspark\n",
        "!pip install -U -q PyDrive\n",
        "!apt install openjdk-8-jdk-headless -qq\n",
        "import os\n",
        "os.environ[\"JAVA_HOME\"] = \"/usr/lib/jvm/java-8-openjdk-amd64\""
      ]
    },
    {
      "cell_type": "markdown",
      "metadata": {
        "id": "oLuQyFfv945l"
      },
      "source": [
        "Now we authenticate a Google Drive client to download the file we will be processing in our Spark job.\n",
        "\n",
        "**Make sure to follow the interactive instructions.**"
      ]
    },
    {
      "cell_type": "code",
      "execution_count": null,
      "metadata": {
        "id": "Kq_Z4KZBlz1Y"
      },
      "outputs": [],
      "source": [
        "from pydrive.auth import GoogleAuth\n",
        "from pydrive.drive import GoogleDrive\n",
        "from google.colab import auth\n",
        "from oauth2client.client import GoogleCredentials\n",
        "\n",
        "# Authenticate and create the PyDrive client\n",
        "auth.authenticate_user()\n",
        "gauth = GoogleAuth()\n",
        "gauth.credentials = GoogleCredentials.get_application_default()\n",
        "drive = GoogleDrive(gauth)"
      ]
    },
    {
      "cell_type": "markdown",
      "metadata": {
        "id": "mzgVstB--CBc"
      },
      "source": [
        "Download both anime.csv and rating.csv, and store it in your google drive. It is advisable to create a separate project folder, where you can store this dataset and also your code.\n",
        "\n",
        "The script will give you the id of the two files in your drive."
      ]
    },
    {
      "cell_type": "code",
      "execution_count": null,
      "metadata": {
        "colab": {
          "base_uri": "https://localhost:8080/"
        },
        "id": "uTCTGdj90mvn",
        "outputId": "b8243058-6281-4179-d635-dc3508875468"
      },
      "outputs": [
        {
          "name": "stderr",
          "output_type": "stream",
          "text": [
            "WARNING:googleapiclient.discovery_cache:file_cache is unavailable when using oauth2client >= 4.0.0 or google-auth\n",
            "Traceback (most recent call last):\n",
            "  File \"/usr/local/lib/python3.7/dist-packages/googleapiclient/discovery_cache/file_cache.py\", line 33, in <module>\n",
            "    from oauth2client.contrib.locked_file import LockedFile\n",
            "ModuleNotFoundError: No module named 'oauth2client.contrib.locked_file'\n",
            "\n",
            "During handling of the above exception, another exception occurred:\n",
            "\n",
            "Traceback (most recent call last):\n",
            "  File \"/usr/local/lib/python3.7/dist-packages/googleapiclient/discovery_cache/file_cache.py\", line 37, in <module>\n",
            "    from oauth2client.locked_file import LockedFile\n",
            "ModuleNotFoundError: No module named 'oauth2client.locked_file'\n",
            "\n",
            "During handling of the above exception, another exception occurred:\n",
            "\n",
            "Traceback (most recent call last):\n",
            "  File \"/usr/local/lib/python3.7/dist-packages/googleapiclient/discovery_cache/__init__.py\", line 44, in autodetect\n",
            "    from . import file_cache\n",
            "  File \"/usr/local/lib/python3.7/dist-packages/googleapiclient/discovery_cache/file_cache.py\", line 41, in <module>\n",
            "    \"file_cache is unavailable when using oauth2client >= 4.0.0 or google-auth\"\n",
            "ImportError: file_cache is unavailable when using oauth2client >= 4.0.0 or google-auth\n"
          ]
        },
        {
          "name": "stdout",
          "output_type": "stream",
          "text": [
            "title: rating.csv, id: 1f76dQZxRB1fNaReBv_DnUDVkIXNm7mw9\n",
            "title: anime.csv, id: 1TppJoj4QVJlc_HML20xmH847Brrw0Zfc\n"
          ]
        }
      ],
      "source": [
        "file_list = drive.ListFile({'q': \"'1Oi8cMnAfJVZH9-FyXGxwOrGGCIkkB7uy' in parents\"}).GetList()\n",
        "for f in file_list:\n",
        "  print('title: %s, id: %s' % (f['title'], f['id']))"
      ]
    },
    {
      "cell_type": "markdown",
      "metadata": {
        "id": "6zwibooR_do9"
      },
      "source": [
        "**Getting the data downloaded earlier**"
      ]
    },
    {
      "cell_type": "code",
      "execution_count": null,
      "metadata": {
        "id": "RDb3bcspuvyi"
      },
      "outputs": [],
      "source": [
        "# Change the id, if it differs from the one below.\n",
        "id='1TppJoj4QVJlc_HML20xmH847Brrw0Zfc'\n",
        "downloaded = drive.CreateFile({'id': id})\n",
        "downloaded.GetContentFile('anime.csv')\n",
        "\n",
        "id='1f76dQZxRB1fNaReBv_DnUDVkIXNm7mw9'\n",
        "downloaded = drive.CreateFile({'id': id})\n",
        "downloaded.GetContentFile('rating.csv')"
      ]
    },
    {
      "cell_type": "markdown",
      "metadata": {
        "id": "MkVgWJCZ_kA1"
      },
      "source": [
        "**importing the useful package**"
      ]
    },
    {
      "cell_type": "code",
      "execution_count": null,
      "metadata": {
        "id": "VmHerqkYKTy-"
      },
      "outputs": [],
      "source": []
    },
    {
      "cell_type": "code",
      "execution_count": null,
      "metadata": {
        "id": "c6S53q8Ur9cf"
      },
      "outputs": [],
      "source": [
        "import pandas as pd\n",
        "import numpy as np\n",
        "import matplotlib.pyplot as plt\n",
        "%matplotlib inline\n",
        "\n",
        "# Student Activity: Add your packages here.\n",
        "import pyspark\n",
        "from pyspark.sql import SparkSession\n",
        "from pyspark import SparkConf\n",
        "from pyspark.sql.functions import array, col, lit, struct, avg\n",
        "from pyspark.sql.types import IntegerType\n",
        "from pyspark.ml.recommendation import ALS\n",
        "from pyspark.ml.feature import StringIndexer,IndexToString\n",
        " \n"
      ]
    },
    {
      "cell_type": "markdown",
      "metadata": {
        "id": "cLvokhSvcMcG"
      },
      "source": [
        "**This step initializes the Spark context.**"
      ]
    },
    {
      "cell_type": "code",
      "execution_count": null,
      "metadata": {
        "id": "zQXrcZwKZOhO"
      },
      "outputs": [],
      "source": [
        "# create the session\n",
        "conf = SparkConf().set(\"spark.ui.port\", \"4050\")\n",
        "\n",
        "# create the context\n",
        "sc = pyspark.SparkContext(conf=conf)\n",
        "spark = SparkSession.builder.getOrCreate()"
      ]
    },
    {
      "cell_type": "markdown",
      "metadata": {
        "id": "SJmuKtJUagDZ"
      },
      "source": [
        "You can easily check the current version and get the link of the web interface. In the Spark UI, you can monitor the progress of your job and debug the performance bottlenecks (if your Colab is running with a local runtime)."
      ]
    },
    {
      "cell_type": "code",
      "execution_count": null,
      "metadata": {
        "colab": {
          "base_uri": "https://localhost:8080/",
          "height": 214
        },
        "id": "OT25Rxufje4A",
        "outputId": "e4eee403-430f-4432-b23c-77bc802834e9"
      },
      "outputs": [
        {
          "data": {
            "text/html": [
              "\n",
              "            <div>\n",
              "                <p><b>SparkSession - in-memory</b></p>\n",
              "                \n",
              "        <div>\n",
              "            <p><b>SparkContext</b></p>\n",
              "\n",
              "            <p><a href=\"http://43fed3f92732:4050\">Spark UI</a></p>\n",
              "\n",
              "            <dl>\n",
              "              <dt>Version</dt>\n",
              "                <dd><code>v3.2.0</code></dd>\n",
              "              <dt>Master</dt>\n",
              "                <dd><code>local[*]</code></dd>\n",
              "              <dt>AppName</dt>\n",
              "                <dd><code>pyspark-shell</code></dd>\n",
              "            </dl>\n",
              "        </div>\n",
              "        \n",
              "            </div>\n",
              "        "
            ],
            "text/plain": [
              "<pyspark.sql.session.SparkSession at 0x7f1985d267d0>"
            ]
          },
          "execution_count": 8,
          "metadata": {},
          "output_type": "execute_result"
        }
      ],
      "source": [
        "spark"
      ]
    },
    {
      "cell_type": "markdown",
      "metadata": {
        "id": "2r6S-Jr4A52U"
      },
      "source": [
        "\n",
        "**Identifying and describing the number of columns in the two dataset files.**"
      ]
    },
    {
      "cell_type": "code",
      "execution_count": null,
      "metadata": {
        "id": "ce0qaZfDhsdo"
      },
      "outputs": [],
      "source": [
        "anime_data = spark.read.csv('/content/anime.csv',header=True)\n",
        "ratings_data = spark.read.csv('/content/rating.csv',header=True)"
      ]
    },
    {
      "cell_type": "code",
      "execution_count": null,
      "metadata": {
        "colab": {
          "base_uri": "https://localhost:8080/"
        },
        "id": "Fvi_NAKQwJnE",
        "outputId": "2f800948-cb12-419d-b1a7-15d3785ec2c8"
      },
      "outputs": [
        {
          "name": "stdout",
          "output_type": "stream",
          "text": [
            "The number of columns in the dataset is  7\n",
            "['anime_id', 'name', 'genre', 'type', 'episodes', 'rating', 'members']\n",
            "root\n",
            " |-- anime_id: string (nullable = true)\n",
            " |-- name: string (nullable = true)\n",
            " |-- genre: string (nullable = true)\n",
            " |-- type: string (nullable = true)\n",
            " |-- episodes: string (nullable = true)\n",
            " |-- rating: string (nullable = true)\n",
            " |-- members: string (nullable = true)\n",
            "\n",
            "None\n"
          ]
        }
      ],
      "source": [
        "# describe the columns in the dataset\n",
        "def print_columns(data):\n",
        "  no_columns=len(data.columns)\n",
        "  print ('The number of columns in the dataset is ',no_columns)\n",
        "  print(data.columns)\n",
        "  print(data.printSchema())\n",
        "\n",
        "\n",
        "print_columns(anime_data)"
      ]
    },
    {
      "cell_type": "code",
      "execution_count": null,
      "metadata": {
        "colab": {
          "base_uri": "https://localhost:8080/"
        },
        "id": "TIF1uFXQx3oD",
        "outputId": "f7f35f23-9328-41e1-a8f0-ee28680a9c45"
      },
      "outputs": [
        {
          "name": "stdout",
          "output_type": "stream",
          "text": [
            "The number of columns in the dataset is  3\n",
            "['user_id', 'anime_id', 'rating']\n",
            "root\n",
            " |-- user_id: string (nullable = true)\n",
            " |-- anime_id: string (nullable = true)\n",
            " |-- rating: string (nullable = true)\n",
            "\n",
            "None\n"
          ]
        }
      ],
      "source": [
        "print_columns(ratings_data)"
      ]
    },
    {
      "cell_type": "markdown",
      "metadata": {
        "id": "jm7N9uNYbs_y"
      },
      "source": [
        "\n",
        "\n",
        "**Combining the two datasets and identifing the key common column**"
      ]
    },
    {
      "cell_type": "code",
      "execution_count": null,
      "metadata": {
        "colab": {
          "base_uri": "https://localhost:8080/"
        },
        "id": "RWQ4NGpl9btl",
        "outputId": "dd143c13-a217-4a4a-853b-f14a2b669011"
      },
      "outputs": [
        {
          "name": "stdout",
          "output_type": "stream",
          "text": [
            "root\n",
            " |-- anime_id: string (nullable = true)\n",
            " |-- name: string (nullable = true)\n",
            " |-- genre: string (nullable = true)\n",
            " |-- type: string (nullable = true)\n",
            " |-- episodes: string (nullable = true)\n",
            " |-- members: string (nullable = true)\n",
            " |-- user_id: string (nullable = true)\n",
            " |-- rating: string (nullable = true)\n",
            "\n"
          ]
        }
      ],
      "source": [
        "# Remove rating from anime_dataset \n",
        "anime_data = anime_data.drop('rating')\n",
        "\n",
        "# merge data on the anime_id column\n",
        "\n",
        "data = anime_data.join(ratings_data, on='anime_id', how='inner')\n",
        "data.printSchema()"
      ]
    },
    {
      "cell_type": "markdown",
      "metadata": {
        "id": "hwtkcRCYCemO"
      },
      "source": [
        "\n",
        "\n",
        " **Finding the top 10 anime based on rating. The analysis is presented in a tabular form**\n",
        "\n",
        "**Finding the top 10 anime with the most episodes. The analysis is presented in a tabular form**"
      ]
    },
    {
      "cell_type": "code",
      "execution_count": null,
      "metadata": {
        "colab": {
          "base_uri": "https://localhost:8080/"
        },
        "id": "zADjKUlIKCp3",
        "outputId": "90369777-dcc5-4099-bc0c-e5c8c1391a2f"
      },
      "outputs": [
        {
          "name": "stdout",
          "output_type": "stream",
          "text": [
            "+----------------------------------------------------------------+-----------------+\n",
            "|                                                            name|           rating|\n",
            "+----------------------------------------------------------------+-----------------+\n",
            "|                               Warui no wo Taose!! Salaryman Man|             10.0|\n",
            "|                                                      Shiroi Zou|             10.0|\n",
            "|                                              Choegang Top Plate|             10.0|\n",
            "|                                      STAR BEAT!: Hoshi no Kodou|             10.0|\n",
            "|                                                      Shiranpuri|              9.0|\n",
            "|Yakushiji Ryouko no Kaiki Jikenbo: Hamachou, Voice &amp; Fiction|              9.0|\n",
            "|                                               Tang Lang Bu Chan|              9.0|\n",
            "|                                                      Doukyuusei|              9.0|\n",
            "|                                                   Steins;Gate 0|              8.5|\n",
            "|                                                  Kimi no Na wa.|8.297862664847658|\n",
            "+----------------------------------------------------------------+-----------------+\n",
            "only showing top 10 rows\n",
            "\n"
          ]
        }
      ],
      "source": [
        "# top 10 anime based on rating\n",
        "data_rating=data.withColumn('rating_',data['rating'].cast('int')).groupBy('name').agg({\"rating_\":\"avg\"})\\\n",
        "  .withColumnRenamed('avg(rating_)', \"rating\")\n",
        "data_rating = data_rating.sort(data_rating['rating'].desc())\n",
        "data_rating.show(10,truncate=200)\n"
      ]
    },
    {
      "cell_type": "code",
      "execution_count": null,
      "metadata": {
        "colab": {
          "base_uri": "https://localhost:8080/"
        },
        "id": "Ctb4i1FBGYnk",
        "outputId": "c7d3d0db-f589-42c1-87ee-f820ef4c504d"
      },
      "outputs": [
        {
          "name": "stdout",
          "output_type": "stream",
          "text": [
            "+-------------------------------------+--------------+\n",
            "|                                 name|Total_episodes|\n",
            "+-------------------------------------+--------------+\n",
            "|                           Oyako Club|          1818|\n",
            "|                      Doraemon (1979)|          1787|\n",
            "|               Kirin Monoshiri Yakata|          1565|\n",
            "|   Manga Nippon Mukashibanashi (1976)|          1471|\n",
            "|                     Hoka Hoka Kazoku|          1428|\n",
            "|Monoshiri Daigaku: Ashita no Calendar|          1274|\n",
            "|                Sekai Monoshiri Ryoko|          1006|\n",
            "|                       Kotowaza House|           773|\n",
            "|       Shima Shima Tora no Shimajirou|           726|\n",
            "|                    Ninja Hattori-kun|           694|\n",
            "+-------------------------------------+--------------+\n",
            "only showing top 10 rows\n",
            "\n"
          ]
        }
      ],
      "source": [
        " # top 10 anime with the most episodes\n",
        "data_episode=data.withColumn('total_episode',data['episodes'].cast('int')).groupBy('name').agg({'total_episode':\"max\"})\\\n",
        "  .withColumnRenamed('max(total_episode)', \"Total_episodes\")\n",
        "data_episode = data_episode.sort(data_episode[\"Total_episodes\"].desc())\n",
        "data_episode.show(10,truncate=200)\n",
        "\n"
      ]
    },
    {
      "cell_type": "code",
      "execution_count": null,
      "metadata": {
        "colab": {
          "base_uri": "https://localhost:8080/"
        },
        "id": "bngncCA-HH1U",
        "outputId": "5760e522-02c4-4f01-cb92-3539b9005ece"
      },
      "outputs": [
        {
          "name": "stdout",
          "output_type": "stream",
          "text": [
            "+--------------------------------------------------------------+------------------+\n",
            "|                                                         genre|            rating|\n",
            "+--------------------------------------------------------------+------------------+\n",
            "|Action, Comedy, Demons, Fantasy, Martial Arts, School, Shounen| 6.954316972205795|\n",
            "|                       Comedy, Ecchi, Romance, School, Shounen| 5.443392919733614|\n",
            "|                               Action, Drama, Seinen, Thriller| 7.054484492875105|\n",
            "|                                       Fantasy, Magic, Shounen| 5.120701754385965|\n",
            "|                       Comedy, Fantasy, Harem, Romance, Shoujo| 5.376404494382022|\n",
            "|               Action, Adventure, Drama, Martial Arts, Shounen| 5.417241379310345|\n",
            "|    Action, Adventure, Mecha, Military, Romance, Sci-Fi, Space| 6.021739130434782|\n",
            "|                              Action, Adventure, Comedy, Mecha| 3.909090909090909|\n",
            "|                                         Horror, Mecha, Sci-Fi|3.5757575757575757|\n",
            "|                                        Psychological, Romance|               2.2|\n",
            "+--------------------------------------------------------------+------------------+\n",
            "only showing top 10 rows\n",
            "\n"
          ]
        }
      ],
      "source": [
        "# top 10 genre based on user rating\n",
        "data_genre=data.withColumn('rating_',data['rating'].cast('int')).groupBy('genre').agg({'rating_':\"avg\"})\\\n",
        "  .withColumnRenamed('avg(rating_)', \"rating\")\n",
        "data_data_genre = data_genre.sort(data_genre[\"rating\"].desc())\n",
        "data_genre.show(10,truncate=200)\n",
        "\n",
        "\n"
      ]
    },
    {
      "cell_type": "markdown",
      "metadata": {
        "id": "fFSH_STSEUcd"
      },
      "source": [
        "\n",
        "## Designing a collaborative filter-based recommendation system. "
      ]
    },
    {
      "cell_type": "code",
      "execution_count": null,
      "metadata": {
        "id": "sH0S0cGHsdz6"
      },
      "outputs": [],
      "source": [
        "#filter dataset for recommender system\n",
        "data = data.selectExpr('user_id','name','rating')\n",
        "data = data.withColumn('rating_',data['rating'].cast('int')).withColumn('user_id',data['user_id'].cast('int'))\\\n",
        "              .groupBy('name','user_id').agg({'rating_':\"avg\"})\\\n",
        "              .withColumnRenamed('avg(rating_)', \"rating\")\n",
        "indexer = StringIndexer(inputCol=\"name\", outputCol=\"name_idx\") \n",
        "indexer=indexer.fit(data) \n",
        "data_transformed = indexer.transform(data)\n"
      ]
    },
    {
      "cell_type": "code",
      "execution_count": null,
      "metadata": {
        "colab": {
          "base_uri": "https://localhost:8080/"
        },
        "id": "NlNXjsYCGfCN",
        "outputId": "3f9b2a08-6b57-4cf5-8899-63cf39a8194a"
      },
      "outputs": [
        {
          "data": {
            "text/plain": [
              "['name', 'user_id', 'rating', 'name_idx']"
            ]
          },
          "execution_count": 42,
          "metadata": {},
          "output_type": "execute_result"
        }
      ],
      "source": [
        "data_transformed.columns\n"
      ]
    },
    {
      "cell_type": "code",
      "execution_count": null,
      "metadata": {
        "id": "coPCDwK6L-5B"
      },
      "outputs": [],
      "source": [
        "\n",
        "# dataset split into training and testing set\n",
        "(training_data, test_data) = data_transformed.randomSplit([0.75, 0.25])\n",
        "# training the model\n",
        "als_model = ALS(implicitPrefs=True,ratingCol='rating',userCol=\"user_id\", itemCol=\"name_idx\",maxIter=10)\n",
        "model = als_model.fit(training_data)"
      ]
    },
    {
      "cell_type": "markdown",
      "metadata": {
        "id": "xe1VOcREEzQW"
      },
      "source": [
        "\n",
        "**Give example of best three anime recommendations for minimum of 10 users**"
      ]
    },
    {
      "cell_type": "code",
      "execution_count": null,
      "metadata": {
        "id": "HMgJCE2XW_q1"
      },
      "outputs": [],
      "source": [
        "labels = indexer.labels\n",
        "\n",
        "idx_to_name={x:y for x,y in enumerate(list(labels))}\n"
      ]
    },
    {
      "cell_type": "code",
      "execution_count": null,
      "metadata": {
        "colab": {
          "base_uri": "https://localhost:8080/"
        },
        "id": "xdob4pMiWbaQ",
        "outputId": "aef13beb-62d2-419c-a2f4-2528275b4e17"
      },
      "outputs": [
        {
          "name": "stderr",
          "output_type": "stream",
          "text": [
            "/usr/local/lib/python3.7/dist-packages/pyspark/sql/context.py:127: FutureWarning: Deprecated in 3.0.0. Use SparkSession.builder.getOrCreate() instead.\n",
            "  FutureWarning\n"
          ]
        }
      ],
      "source": [
        "collect =[]\n",
        "ids =  [1000, 200,100,450,444,700,123,456,2345,76,233,457]\n",
        "for id in ids:\n",
        "  output =  model.recommendForAllUsers(3).filter(col('user_id')==id).select(\"recommendations\").collect()\n",
        "  anime = []\n",
        "  for item in output[0][0]:\n",
        "    anime.append(idx_to_name[item.name_idx])\n",
        "  collect.append((id,anime))"
      ]
    },
    {
      "cell_type": "code",
      "execution_count": null,
      "metadata": {
        "colab": {
          "base_uri": "https://localhost:8080/",
          "height": 418
        },
        "id": "cBGK3UW-Oj-b",
        "outputId": "f39f2c16-52f1-4ca1-ef39-bbbccf11a17d"
      },
      "outputs": [
        {
          "data": {
            "text/html": [
              "<div>\n",
              "<style scoped>\n",
              "    .dataframe tbody tr th:only-of-type {\n",
              "        vertical-align: middle;\n",
              "    }\n",
              "\n",
              "    .dataframe tbody tr th {\n",
              "        vertical-align: top;\n",
              "    }\n",
              "\n",
              "    .dataframe thead th {\n",
              "        text-align: right;\n",
              "    }\n",
              "</style>\n",
              "<table border=\"1\" class=\"dataframe\">\n",
              "  <thead>\n",
              "    <tr style=\"text-align: right;\">\n",
              "      <th></th>\n",
              "      <th>id</th>\n",
              "      <th>recommended anime</th>\n",
              "    </tr>\n",
              "  </thead>\n",
              "  <tbody>\n",
              "    <tr>\n",
              "      <th>0</th>\n",
              "      <td>1000</td>\n",
              "      <td>[Death Note, Ouran Koukou Host Club, Sen to Ch...</td>\n",
              "    </tr>\n",
              "    <tr>\n",
              "      <th>1</th>\n",
              "      <td>200</td>\n",
              "      <td>[Cowboy Bebop, Ghost in the Shell, Akira]</td>\n",
              "    </tr>\n",
              "    <tr>\n",
              "      <th>2</th>\n",
              "      <td>100</td>\n",
              "      <td>[Death Note, Shingeki no Kyojin, Sword Art Onl...</td>\n",
              "    </tr>\n",
              "    <tr>\n",
              "      <th>3</th>\n",
              "      <td>450</td>\n",
              "      <td>[Suzumiya Haruhi no Yuuutsu, Lucky☆Star, Elfen...</td>\n",
              "    </tr>\n",
              "    <tr>\n",
              "      <th>4</th>\n",
              "      <td>444</td>\n",
              "      <td>[Sword Art Online, No Game No Life, Shingeki n...</td>\n",
              "    </tr>\n",
              "    <tr>\n",
              "      <th>5</th>\n",
              "      <td>700</td>\n",
              "      <td>[Death Note, Elfen Lied, Naruto]</td>\n",
              "    </tr>\n",
              "    <tr>\n",
              "      <th>6</th>\n",
              "      <td>123</td>\n",
              "      <td>[Free!, No.6, Free!: Eternal Summer]</td>\n",
              "    </tr>\n",
              "    <tr>\n",
              "      <th>7</th>\n",
              "      <td>456</td>\n",
              "      <td>[Shingeki no Kyojin, Kuroshitsuji, Tokyo Ghoul]</td>\n",
              "    </tr>\n",
              "    <tr>\n",
              "      <th>8</th>\n",
              "      <td>2345</td>\n",
              "      <td>[Sword Art Online, Angel Beats!, Sakurasou no ...</td>\n",
              "    </tr>\n",
              "    <tr>\n",
              "      <th>9</th>\n",
              "      <td>76</td>\n",
              "      <td>[Tonari no Totoro, Howl no Ugoku Shiro, Majo n...</td>\n",
              "    </tr>\n",
              "    <tr>\n",
              "      <th>10</th>\n",
              "      <td>233</td>\n",
              "      <td>[Fate/stay night: Unlimited Blade Works, Fate/...</td>\n",
              "    </tr>\n",
              "    <tr>\n",
              "      <th>11</th>\n",
              "      <td>457</td>\n",
              "      <td>[Death Note, Code Geass: Hangyaku no Lelouch, ...</td>\n",
              "    </tr>\n",
              "  </tbody>\n",
              "</table>\n",
              "</div>"
            ],
            "text/plain": [
              "      id                                  recommended anime\n",
              "0   1000  [Death Note, Ouran Koukou Host Club, Sen to Ch...\n",
              "1    200          [Cowboy Bebop, Ghost in the Shell, Akira]\n",
              "2    100  [Death Note, Shingeki no Kyojin, Sword Art Onl...\n",
              "3    450  [Suzumiya Haruhi no Yuuutsu, Lucky☆Star, Elfen...\n",
              "4    444  [Sword Art Online, No Game No Life, Shingeki n...\n",
              "5    700                   [Death Note, Elfen Lied, Naruto]\n",
              "6    123               [Free!, No.6, Free!: Eternal Summer]\n",
              "7    456    [Shingeki no Kyojin, Kuroshitsuji, Tokyo Ghoul]\n",
              "8   2345  [Sword Art Online, Angel Beats!, Sakurasou no ...\n",
              "9     76  [Tonari no Totoro, Howl no Ugoku Shiro, Majo n...\n",
              "10   233  [Fate/stay night: Unlimited Blade Works, Fate/...\n",
              "11   457  [Death Note, Code Geass: Hangyaku no Lelouch, ..."
            ]
          },
          "execution_count": 71,
          "metadata": {},
          "output_type": "execute_result"
        }
      ],
      "source": [
        "columns = ['id','recommended anime']\n",
        "# collect[0]\n",
        "anime = [x[1] for x in collect]\n",
        "collect_dict =pd.DataFrame({'id':ids,'recommended anime':anime })\n",
        "collect_dict"
      ]
    }
  ],
  "metadata": {
    "accelerator": "TPU",
    "colab": {
      "collapsed_sections": [],
      "name": "COM739_17952_CW3.ipynb",
      "provenance": []
    },
    "kernelspec": {
      "display_name": "Python 3",
      "language": "python",
      "name": "python3"
    },
    "language_info": {
      "codemirror_mode": {
        "name": "ipython",
        "version": 3
      },
      "file_extension": ".py",
      "mimetype": "text/x-python",
      "name": "python",
      "nbconvert_exporter": "python",
      "pygments_lexer": "ipython3",
      "version": "3.8.8"
    }
  },
  "nbformat": 4,
  "nbformat_minor": 0
}
